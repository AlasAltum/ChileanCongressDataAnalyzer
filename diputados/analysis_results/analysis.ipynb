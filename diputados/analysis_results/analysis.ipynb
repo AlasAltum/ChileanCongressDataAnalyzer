{
 "cells": [
  {
   "cell_type": "markdown",
   "source": [
    "# Análisis de gastos de diputados\r\n"
   ],
   "metadata": {}
  },
  {
   "cell_type": "markdown",
   "source": [
    "### Primero abrimos los datos"
   ],
   "metadata": {}
  },
  {
   "cell_type": "code",
   "execution_count": 16,
   "source": [
    "import pandas as pd\r\n",
    "import numpy as np\r\n",
    "import matplotlib.pyplot as plt\r\n",
    "\r\n",
    "consultorias_externas = pd.read_csv('../collected_data/ConsultoriasExternas.csv', index_col=False)\r\n",
    "costos_operacionales = pd.read_csv('../collected_data/CostosOperacionales.csv', index_col=False)\r\n",
    "equipo_de_apoyo = pd.read_csv('../collected_data/SupportStaff.csv', index_col=False)\r\n",
    "\r\n",
    "costos_operacionales.head()"
   ],
   "outputs": [
    {
     "output_type": "execute_result",
     "data": {
      "text/plain": [
       "   Unnamed: 0                diputado  Anio  Mes  \\\n",
       "0           0  Florcita Alarcón Rojas  2021    8   \n",
       "1           1  Florcita Alarcón Rojas  2021    8   \n",
       "2           2  Florcita Alarcón Rojas  2021    8   \n",
       "3           3  Florcita Alarcón Rojas  2021    8   \n",
       "4           4  Florcita Alarcón Rojas  2021    8   \n",
       "\n",
       "                                              Gastos       Montos  \n",
       "0  TRASPASO DESDE GASTOS OPERACIONALES A ASIGNACI...  2,678,960    \n",
       "1                                        TELEFONÍA      144,248    \n",
       "2                                       TRASLACIÓN      306,147    \n",
       "3                                         DIFUSIÓN            0    \n",
       "4  ACTIVIDADES DESTINADAS A LA INTERACCIÓN CON LA...          0    "
      ],
      "text/html": [
       "<div>\n",
       "<style scoped>\n",
       "    .dataframe tbody tr th:only-of-type {\n",
       "        vertical-align: middle;\n",
       "    }\n",
       "\n",
       "    .dataframe tbody tr th {\n",
       "        vertical-align: top;\n",
       "    }\n",
       "\n",
       "    .dataframe thead th {\n",
       "        text-align: right;\n",
       "    }\n",
       "</style>\n",
       "<table border=\"1\" class=\"dataframe\">\n",
       "  <thead>\n",
       "    <tr style=\"text-align: right;\">\n",
       "      <th></th>\n",
       "      <th>Unnamed: 0</th>\n",
       "      <th>diputado</th>\n",
       "      <th>Anio</th>\n",
       "      <th>Mes</th>\n",
       "      <th>Gastos</th>\n",
       "      <th>Montos</th>\n",
       "    </tr>\n",
       "  </thead>\n",
       "  <tbody>\n",
       "    <tr>\n",
       "      <th>0</th>\n",
       "      <td>0</td>\n",
       "      <td>Florcita Alarcón Rojas</td>\n",
       "      <td>2021</td>\n",
       "      <td>8</td>\n",
       "      <td>TRASPASO DESDE GASTOS OPERACIONALES A ASIGNACI...</td>\n",
       "      <td>2,678,960</td>\n",
       "    </tr>\n",
       "    <tr>\n",
       "      <th>1</th>\n",
       "      <td>1</td>\n",
       "      <td>Florcita Alarcón Rojas</td>\n",
       "      <td>2021</td>\n",
       "      <td>8</td>\n",
       "      <td>TELEFONÍA</td>\n",
       "      <td>144,248</td>\n",
       "    </tr>\n",
       "    <tr>\n",
       "      <th>2</th>\n",
       "      <td>2</td>\n",
       "      <td>Florcita Alarcón Rojas</td>\n",
       "      <td>2021</td>\n",
       "      <td>8</td>\n",
       "      <td>TRASLACIÓN</td>\n",
       "      <td>306,147</td>\n",
       "    </tr>\n",
       "    <tr>\n",
       "      <th>3</th>\n",
       "      <td>3</td>\n",
       "      <td>Florcita Alarcón Rojas</td>\n",
       "      <td>2021</td>\n",
       "      <td>8</td>\n",
       "      <td>DIFUSIÓN</td>\n",
       "      <td>0</td>\n",
       "    </tr>\n",
       "    <tr>\n",
       "      <th>4</th>\n",
       "      <td>4</td>\n",
       "      <td>Florcita Alarcón Rojas</td>\n",
       "      <td>2021</td>\n",
       "      <td>8</td>\n",
       "      <td>ACTIVIDADES DESTINADAS A LA INTERACCIÓN CON LA...</td>\n",
       "      <td>0</td>\n",
       "    </tr>\n",
       "  </tbody>\n",
       "</table>\n",
       "</div>"
      ]
     },
     "metadata": {},
     "execution_count": 16
    }
   ],
   "metadata": {}
  },
  {
   "cell_type": "markdown",
   "source": [
    "### Hay que limpiar un poco más los datos antes de poder trabajar:"
   ],
   "metadata": {}
  },
  {
   "cell_type": "code",
   "execution_count": 3,
   "source": [
    "import re\r\n",
    "\r\n",
    "elimina_espacios_finales = lambda str: re.sub(r'\\s+$', '', str)\r\n",
    "monto_to_int = lambda x: int(re.sub(r',', '', x))\r\n",
    "\r\n",
    "costos_operacionales['Montos'] = [monto_to_int(str) for str in costos_operacionales['Montos']]\r\n",
    "costos_operacionales['Gastos'] = [elimina_espacios_finales(str) for str in costos_operacionales['Gastos']]\r\n",
    "tipos_de_gasto = set(costos_operacionales['Gastos'])\r\n",
    "tipos_de_gasto"
   ],
   "outputs": [
    {
     "output_type": "execute_result",
     "data": {
      "text/plain": [
       "{'ACTIVIDADES DESTINADAS A LA INTERACCIÓN CON LA COMUNIDAD',\n",
       " 'ARRIENDO DE INMUEBLE',\n",
       " 'ARRIENDO DE OFICINA MÓVIL',\n",
       " 'ARRIENDO DE OFICINAS VIRTUALES',\n",
       " 'CONSUMOS BÁSICOS',\n",
       " 'CONTRATACIÓN SERVICIO DE ALMACENAMIENTO',\n",
       " 'CORRESPONDENCIA',\n",
       " 'COVID-19 PERSONAL DE APOYO',\n",
       " 'DIFUSIÓN',\n",
       " 'EQUIPAMIENTO OFICINA PARLAMENTARIA',\n",
       " 'GASTOS DE MANTENCIÓN OFICINA PARLAMENTARIA (INMUEBLE)',\n",
       " 'HABILITACIÓN DE SEDES PARLAMENTARIAS (CON AUTORIZACIÓN DE CRAP)',\n",
       " 'MANTENCION Y REPARACIÓN DE OFICINA MÓVIL',\n",
       " 'MATERIALES DE OFICINA',\n",
       " 'REPARACIONES LOCATIVAS DEL INMUEBLE',\n",
       " 'SEGUROS DE BIENES',\n",
       " 'SERVICIOS MENORES',\n",
       " 'SERVICIOS WEB',\n",
       " 'TELEFONÍA',\n",
       " 'TRASLACIÓN',\n",
       " 'TRASPASO DESDE GASTOS OPERACIONALES A ASIGNACIÓN PERSONAL DE APOYO'}"
      ]
     },
     "metadata": {},
     "execution_count": 3
    }
   ],
   "metadata": {}
  },
  {
   "cell_type": "markdown",
   "source": [
    "## Veamos cuánto se gasta en cada área"
   ],
   "metadata": {}
  },
  {
   "cell_type": "code",
   "execution_count": 4,
   "source": [
    "agrupacion_por_tipo_de_gasto = costos_operacionales.groupby(by=['Gastos'])\r\n",
    "\r\n",
    "print('La suma de gastos operacionales totales entre el 2019 y el 2021 (sin contar diciembre 2021) '\r\n",
    "      f'es {costos_operacionales[\"Montos\"].sum()}')\r\n",
    "\r\n",
    "print('El costo promedio de gasto en cada apartado es el siguiente:')\r\n",
    "agrupacion_por_tipo_de_gasto.mean()['Montos']"
   ],
   "outputs": [
    {
     "output_type": "stream",
     "name": "stdout",
     "text": [
      "La suma de gastos operacionales totales entre el 2019 y el 2021 (sin contar diciembre 2021) es 22530355248\n",
      "El costo promedio de gasto en cada apartado es el siguiente:\n"
     ]
    },
    {
     "output_type": "execute_result",
     "data": {
      "text/plain": [
       "Gastos\n",
       "ACTIVIDADES DESTINADAS A LA INTERACCIÓN CON LA COMUNIDAD              2.419541e+04\n",
       "ARRIENDO DE INMUEBLE                                                  6.756028e+05\n",
       "ARRIENDO DE OFICINA MÓVIL                                             3.199333e+04\n",
       "ARRIENDO DE OFICINAS VIRTUALES                                        1.311040e+02\n",
       "CONSUMOS BÁSICOS                                                      5.708243e+04\n",
       "CONTRATACIÓN SERVICIO DE ALMACENAMIENTO                               1.117569e+02\n",
       "CORRESPONDENCIA                                                       1.886440e+04\n",
       "COVID-19 PERSONAL DE APOYO                                            5.829783e+03\n",
       "DIFUSIÓN                                                              7.933815e+05\n",
       "EQUIPAMIENTO OFICINA PARLAMENTARIA                                    3.658052e+04\n",
       "GASTOS DE MANTENCIÓN OFICINA PARLAMENTARIA (INMUEBLE)                 2.972624e+04\n",
       "HABILITACIÓN DE SEDES PARLAMENTARIAS (CON AUTORIZACIÓN DE CRAP)       5.182565e+02\n",
       "MANTENCION Y REPARACIÓN DE OFICINA MÓVIL                              1.512097e+00\n",
       "MATERIALES DE OFICINA                                                 4.644555e+04\n",
       "REPARACIONES LOCATIVAS DEL INMUEBLE                                   1.848160e+03\n",
       "SEGUROS DE BIENES                                                     0.000000e+00\n",
       "SERVICIOS MENORES                                                     2.842902e+05\n",
       "SERVICIOS WEB                                                         3.907350e+04\n",
       "TELEFONÍA                                                             2.037855e+05\n",
       "TRASLACIÓN                                                            1.432971e+06\n",
       "TRASPASO DESDE GASTOS OPERACIONALES A ASIGNACIÓN PERSONAL DE APOYO    8.599774e+05\n",
       "Name: Montos, dtype: float64"
      ]
     },
     "metadata": {},
     "execution_count": 4
    }
   ],
   "metadata": {}
  },
  {
   "cell_type": "markdown",
   "source": [
    "Vemos que el gasto total en costos operacionales del 2019 al 2021 sin contar diciembre del 2021 es:\r\n",
    "22.530.355.248, 22 mil millones y quinientos millones.\r\n",
    "\r\n",
    "## Veamos quiénes gastan más en ciertos aspectos específicos:\r\n"
   ],
   "metadata": {}
  },
  {
   "cell_type": "code",
   "execution_count": null,
   "source": [],
   "outputs": [],
   "metadata": {}
  },
  {
   "cell_type": "code",
   "execution_count": 17,
   "source": [
    "import sqlite3\r\n",
    "\r\n",
    "con = sqlite3.connect(\":memory:\")\r\n",
    "try:\r\n",
    "        costos_operacionales.to_sql('costosOperacionales', con, index=False)\r\n",
    "        consultorias_externas.to_sql('consultoriasExternas', con, index=False)\r\n",
    "        equipo_de_apoyo.to_sql('EquipoApoyo', con, index=False)\r\n",
    "except ValueError:\r\n",
    "        print('Celda ya ejecutada anteriormente')\r\n",
    "\r\n",
    "\r\n",
    "cur = con.cursor()\r\n",
    "\r\n",
    "query = \"\"\"PRAGMA table_info(costosOperacionales);\"\"\" # muestra las columnas de la tabla\r\n",
    "\r\n",
    "cur.execute(query)\r\n",
    "resultado = cur.fetchall()\r\n",
    "\r\n",
    "# # We can also close the connection if we are done with it.\r\n",
    "# # Just be sure any changes have been committed or they will be lost.\r\n",
    "# con.close()\r\n"
   ],
   "outputs": [
    {
     "output_type": "stream",
     "name": "stderr",
     "text": [
      "C:\\Users\\alons\\AppData\\Local\\Programs\\Python\\Python39\\lib\\site-packages\\pandas\\core\\generic.py:2779: UserWarning: The spaces in these column names will not be changed. In pandas versions < 0.14, spaces were converted to underscores.\n",
      "  sql.to_sql(\n"
     ]
    }
   ],
   "metadata": {}
  },
  {
   "cell_type": "code",
   "execution_count": 13,
   "source": [
    "resultado"
   ],
   "outputs": [
    {
     "output_type": "execute_result",
     "data": {
      "text/plain": [
       "[(0, 'Unnamed: 0', 'INTEGER', 0, None, 0),\n",
       " (1, 'diputado', 'TEXT', 0, None, 0),\n",
       " (2, 'Anio', 'INTEGER', 0, None, 0),\n",
       " (3, 'Mes', 'INTEGER', 0, None, 0),\n",
       " (4, 'Gastos', 'TEXT', 0, None, 0),\n",
       " (5, 'Montos', 'INTEGER', 0, None, 0)]"
      ]
     },
     "metadata": {},
     "execution_count": 13
    }
   ],
   "metadata": {}
  },
  {
   "cell_type": "code",
   "execution_count": null,
   "source": [
    "agrupacion_por_tipo_de_gasto_y_diputado = costos_operacionales.groupby(by=['Gastos', 'diputado'])\r\n",
    "gasto_por_tipo_y_diputado = agrupacion_por_tipo_de_gasto_y_diputado['Montos'].sum()\r\n",
    "\r\n",
    "# formato esperado: Actividad: nom : monto\r\n",
    "top_gastos_por_diputado = {}\r\n",
    "\r\n",
    "for activ, deputy, monto in gasto_por_tipo_y_diputado.items():\r\n",
    "    "
   ],
   "outputs": [],
   "metadata": {}
  },
  {
   "cell_type": "code",
   "execution_count": null,
   "source": [],
   "outputs": [],
   "metadata": {}
  },
  {
   "cell_type": "code",
   "execution_count": null,
   "source": [
    "mean_values = np.sort(mean_values)\r\n",
    "limite_bajo = mean_values[int(Nboot * 0.16)]\r\n",
    "limite_alto = mean_values[int(Nboot * 0.84)]\r\n",
    "print(\"El intervalo de confianza al 68% es: [{}:{}]\".format(limite_bajo, limite_alto))"
   ],
   "outputs": [],
   "metadata": {}
  },
  {
   "cell_type": "code",
   "execution_count": null,
   "source": [],
   "outputs": [],
   "metadata": {
    "collapsed": true
   }
  }
 ],
 "metadata": {
  "celltoolbar": "Raw Cell Format",
  "hide_input": false,
  "kernelspec": {
   "name": "python3",
   "display_name": "Python 3.9.2 64-bit"
  },
  "language_info": {
   "codemirror_mode": {
    "name": "ipython",
    "version": 3
   },
   "file_extension": ".py",
   "mimetype": "text/x-python",
   "name": "python",
   "nbconvert_exporter": "python",
   "pygments_lexer": "ipython3",
   "version": "3.9.2"
  },
  "interpreter": {
   "hash": "7906ca02bbf937a76cc488ee8fc9cc07b1878a8a1c282b6a6b380be49e7a7716"
  }
 },
 "nbformat": 4,
 "nbformat_minor": 1
}